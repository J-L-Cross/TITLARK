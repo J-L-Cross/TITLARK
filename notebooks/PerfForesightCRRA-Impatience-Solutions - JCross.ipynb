{
 "cells": [
  {
   "cell_type": "markdown",
   "metadata": {},
   "source": [
    "# Perfect Foresight Model Impatience Conditions"
   ]
  },
  {
   "cell_type": "code",
   "execution_count": 1,
   "metadata": {
    "code_folding": [
     0
    ]
   },
   "outputs": [],
   "source": [
    "# Initial notebook set up\n",
    "\n",
    "%matplotlib inline\n",
    "import matplotlib.pyplot as plt\n",
    "\n",
    "# The first step is to be able to bring things in from different directories\n",
    "import sys \n",
    "import os\n",
    "\n",
    "sys.path.insert(0, os.path.abspath('../lib'))\n",
    "\n",
    "import numpy as np\n",
    "import HARK \n",
    "from time import clock\n",
    "from copy import deepcopy\n",
    "mystr = lambda number : \"{:.4f}\".format(number)\n",
    "from HARK.utilities import plotFuncs\n",
    "\n",
    "# These last two will make our charts look nice\n",
    "plt.style.use('seaborn-darkgrid')\n",
    "palette = plt.get_cmap('Dark2')"
   ]
  },
  {
   "cell_type": "markdown",
   "metadata": {},
   "source": [
    "After using the Jupyter notebook [Gentle-Intro-To-HARK-PerfForesightCRRA](https://github.com/econ-ark/DemARK/blob/Course-Choice/notebooks/Gentle-Intro-To-HARK-PerfForesightCRRA.ipynb) to learn the basics of HARK, answer the following questions:"
   ]
  },
  {
   "cell_type": "markdown",
   "metadata": {},
   "source": [
    "\n",
    "\n",
    "[PerfectForesightCRRA](http://www.econ2.jhu.edu/people/ccarroll/public/lecturenotes/Consumption/PerfForesightCRRA) defines several 'impatience' conditions that are useful in understanding the model.  We will use here the HARK toolkit's solution to the permanent-income-normalized version of the model, which constructs a consumption function for the ratio of consumption to permanent income.\n",
    "\n",
    "The handout claims that in order for the perfect foresight consumption model to be useful, it is necessary to impose\n",
    "the 'return impatience condition' (RIC):\n",
    "\n",
    "\\begin{eqnarray}\n",
    "  \\frac{(R \\beta)^{1/\\rho}}{R} & < & 1\n",
    "\\end{eqnarray}\n",
    "\n",
    "and defines some other similar inequalities that help characterize what happens in the model (or whether it has a solution at all).\n",
    "\n",
    "This question asks you to explore numerically what happens to the consumption function as these conditions get close to failing.\n",
    "\n",
    "Specifically, given the default set of parameter values used in the notebook below, you should:\n",
    "\n",
    "1. Plot the consumption function for a perfect foresight consumer with those defaultparameter values, along with the \"sustainable\" level of consumption that would preserve wealth\n",
    "1. Calculate the numerical values of the three impatience conditions\n",
    "0. Calculate the values of $\\beta$ and $G$ such that the impatience factors on the LHS of the two equations would be exactly equal to 1\n",
    "\n",
    "Next, along with the sustainable consumption function, you should plot a sequence of consumption functions of a HARK `PerfForesightConsumerType` consumer, for a set of parameter values that go from the default value toward some interesting point:\n",
    "\n",
    "1. For some sequence of values of $\\beta$ that go from the default value to some value very close to the point where the RIC fails\n",
    "   * Actually, we do this one for you to show how to do it generically\n",
    "0. For some sequence of values of $G$ that go from the default value to some value just below the maximum possible value of $G$.  (Why is it the maximum possible value?)\n",
    "0. For some sequence of values of $\\rho$ that go from the default value to some value that is very large\n",
    "\n",
    "and in each case you should explain, using analytical mathematical reasoning, the numerical result you get.  (You can just type your answers in the notebook)."
   ]
  },
  {
   "cell_type": "markdown",
   "metadata": {},
   "source": [
    "\n",
    "\n",
    "\n",
    "\n"
   ]
  },
  {
   "cell_type": "code",
   "execution_count": 2,
   "metadata": {},
   "outputs": [],
   "source": [
    "# Import the machinery for solving the perfect foresight model and the default parameters\n",
    "\n",
    "from HARK.ConsumptionSaving.ConsIndShockModel import PerfForesightConsumerType # Import the consumer type\n",
    "import HARK.ConsumptionSaving.ConsumerParameters as Params # Import default parameters\n",
    "\n",
    "# Now extract the default values of the parameters of interest\n",
    "\n",
    "CRRA       = Params.CRRA \n",
    "Rfree      = Params.Rfree \n",
    "DiscFac    = Params.DiscFac\n",
    "PermGroFac = Params.PermGroFac\n",
    "rfree      = Rfree-1"
   ]
  },
  {
   "cell_type": "code",
   "execution_count": 3,
   "metadata": {},
   "outputs": [],
   "source": [
    "# Now create a perfect foresight consumer example, \n",
    "PFagent = PerfForesightConsumerType(**Params.init_perfect_foresight)\n",
    "PFagent.cycles = 0 # We need the consumer to be infinitely lived, or some integer to lifecycle\n",
    "PFagent.LivPrb = [1.0] # Suppress the possibility of dying\n",
    "\n",
    "# Solve the agent's problem\n",
    "PFagent.solve()"
   ]
  },
  {
   "cell_type": "code",
   "execution_count": 4,
   "metadata": {
    "scrolled": true
   },
   "outputs": [
    {
     "data": {
      "image/png": "[encoded data removed]",
      "text/plain": [
       "<Figure size 648x432 with 1 Axes>"
      ]
     },
     "metadata": {
      "needs_background": "light"
     },
     "output_type": "display_data"
    }
   ],
   "source": [
    "# Plot the consumption function \n",
    "\n",
    "# Remember, after invoking .solve(), the consumption function is stored as PFagent.solution[0].cFunc\n",
    "\n",
    "# Set out some range of market resources that we want to plot consumption for\n",
    "\n",
    "mMin = 0\n",
    "mMax = 20\n",
    "numPoints = 100\n",
    "m_range  = np.linspace(mMin, mMax, numPoints) # This creates an array of points in the given range\n",
    "\n",
    "# Feed our range of market resources into our consumption function in order to get consumption at each point\n",
    "\n",
    "cHARK = PFagent.solution[0].cFunc(m_range) # Because the input m_range is an array, the output cHARK is too: 0 because infinite horizon problem\n",
    "\n",
    "# Construct the 45 degree line where value on vertical axis matches horizontal\n",
    "degree45 = m_range # This will be the array of y points identical to the x points\n",
    "\n",
    "# Find the value of consumption at the largest value of m\n",
    "c_max    = PFagent.solution[0].cFunc([mMax])\n",
    "\n",
    "# Use matplotlib package (imported in first cell) to plot the consumption function\n",
    "plt.figure(figsize=(9,6)) # set the figure size\n",
    "plt.ylim(0.,c_max[0]*1.1) # set the range for the vertical axis with a 10 percent margin at top\n",
    "plt.plot(m_range, cHARK, 'b', label='Consumption Function from HARK') # Plot m's on the x axis, versus our c on the y axis, and make the line blue, with a label\n",
    "plt.xlabel('Market resources m') # x axis label\n",
    "plt.ylabel('Consumption c')      # y axis label\n",
    "\n",
    "# The plot is named plt and it hangs around like a variable \n",
    "# but is not displayed until you do a plt.show()\n",
    "\n",
    "plt.plot(m_range, degree45  , 'g', label='c = m') # Add 45 degree line\n",
    "plt.legend() # construct the legend\n",
    "\n",
    "plt.show() # show the plot"
   ]
  },
  {
   "cell_type": "code",
   "execution_count": 5,
   "metadata": {},
   "outputs": [
    {
     "data": {
      "text/plain": [
       "-51.50000000000002"
      ]
     },
     "execution_count": 5,
     "metadata": {},
     "output_type": "execute_result"
    }
   ],
   "source": [
    "# Create a new variable for \"human wealth\"\n",
    "hNrm = 1/((PermGroFac[0]/Rfree)-1)\n",
    "hNrm"
   ]
  },
  {
   "cell_type": "code",
   "execution_count": 12,
   "metadata": {
    "scrolled": true
   },
   "outputs": [
    {
     "data": {
      "image/png": "[encoded data removed]",
      "text/plain": [
       "<Figure size 648x432 with 1 Axes>"
      ]
     },
     "metadata": {
      "needs_background": "light"
     },
     "output_type": "display_data"
    }
   ],
   "source": [
    "# QUESTION: Now calculate and plot the \"sustainable\" level of consumption that leaves wealth untouched\n",
    "# and plot it against the perfect foresight solution\n",
    "# Note: Obviously, 0 is the wrong formula here -- you should fill in the right one\n",
    "\n",
    "mMin = 0\n",
    "mMax = 200\n",
    "numPoints = 100\n",
    "m_range  = np.linspace(mMin, mMax, numPoints) # This creates an array of points in the given range\n",
    "\n",
    "# Solution: \n",
    "cSustainable = 1 + (rfree/Rfree)*((m_range-1)+hNrm) # For any given level of m, the level of c that would leave wealth unchanged\n",
    "\n",
    "\n",
    "\n",
    "plt.figure(figsize=(9,6)) # set the figure size\n",
    "plt.xlabel('Market resources m') # x axis label\n",
    "plt.ylabel('Consumption c') # y axis label\n",
    "\n",
    "plt.plot(m_range, cSustainable  , 'k', label='Sustainable c') # Add sustainable c line\n",
    "plt.plot(m_range, cHARK, 'b', label='c Function')\n",
    "plt.legend()\n",
    "\n",
    "plt.show() # show the plot"
   ]
  },
  {
   "cell_type": "code",
   "execution_count": 7,
   "metadata": {},
   "outputs": [],
   "source": [
    "# Compute the values of the impatience conditions under default parameter values\n",
    "\n",
    "Pat_df  = (Rfree*DiscFac)**(1/CRRA) # Plug in the formula for the absolute patience factor\n",
    "PatR_df = Pat_df/Rfree # Plug in the formula for the return patience factor\n",
    "PatG_df = Pat_df/PermGroFac[0] # Plug in the formula for the growth patience factor\n",
    "\n",
    "DisFac_lim = (Rfree)**(CRRA-1) # The limiting value such that the RIC exactly fails\n",
    "\n",
    "PermGroFac_lim = PermGroFac[0] # The limiting value such that the GIC exactly fails"
   ]
  },
  {
   "cell_type": "code",
   "execution_count": 8,
   "metadata": {},
   "outputs": [
    {
     "ename": "NameError",
     "evalue": "name 'DiscFac_lim' is not defined",
     "output_type": "error",
     "traceback": [
      "\u001b[1;31m---------------------------------------------------------------------------\u001b[0m",
      "\u001b[1;31mNameError\u001b[0m                                 Traceback (most recent call last)",
      "\u001b[1;32m<ipython-input-8-79956936b6a4>\u001b[0m in \u001b[0;36m<module>\u001b[1;34m\u001b[0m\n\u001b[0;32m      5\u001b[0m \u001b[0mhowClose\u001b[0m\u001b[1;33m=\u001b[0m\u001b[1;36m0.01\u001b[0m \u001b[1;31m# How close to come to the limit where the impatience condition fails\u001b[0m\u001b[1;33m\u001b[0m\u001b[1;33m\u001b[0m\u001b[0m\n\u001b[0;32m      6\u001b[0m \u001b[0mDiscFac_min\u001b[0m \u001b[1;33m=\u001b[0m \u001b[1;36m0.8\u001b[0m\u001b[1;33m\u001b[0m\u001b[1;33m\u001b[0m\u001b[0m\n\u001b[1;32m----> 7\u001b[1;33m \u001b[0mDiscFac_max\u001b[0m \u001b[1;33m=\u001b[0m \u001b[0mDiscFac_lim\u001b[0m\u001b[1;33m-\u001b[0m\u001b[0mhowClose\u001b[0m \u001b[1;31m#\u001b[0m\u001b[1;33m\u001b[0m\u001b[1;33m\u001b[0m\u001b[0m\n\u001b[0m\u001b[0;32m      8\u001b[0m \u001b[0mnumPoints\u001b[0m \u001b[1;33m=\u001b[0m \u001b[1;36m10\u001b[0m\u001b[1;33m\u001b[0m\u001b[1;33m\u001b[0m\u001b[0m\n\u001b[0;32m      9\u001b[0m \u001b[0mDiscFac_list\u001b[0m \u001b[1;33m=\u001b[0m \u001b[0mnp\u001b[0m\u001b[1;33m.\u001b[0m\u001b[0mlinspace\u001b[0m\u001b[1;33m(\u001b[0m\u001b[0mDiscFac_min\u001b[0m\u001b[1;33m,\u001b[0m \u001b[0mDiscFac_max\u001b[0m\u001b[1;33m,\u001b[0m \u001b[0mnumPoints\u001b[0m\u001b[1;33m)\u001b[0m \u001b[1;31m# Create a list of beta values\u001b[0m\u001b[1;33m\u001b[0m\u001b[1;33m\u001b[0m\u001b[0m\n",
      "\u001b[1;31mNameError\u001b[0m: name 'DiscFac_lim' is not defined"
     ]
    }
   ],
   "source": [
    "# The code below is an example to show you how to plot a set of consumption functions\n",
    "# for a sequence of values of the discount factor.  You should be\n",
    "# to adapt this code to solve the rest of the sproblem posed above\n",
    "\n",
    "howClose=0.01 # How close to come to the limit where the impatience condition fails\n",
    "DiscFac_min = 0.8\n",
    "DiscFac_max = DiscFac_lim-howClose # \n",
    "numPoints = 10\n",
    "DiscFac_list = np.linspace(DiscFac_min, DiscFac_max, numPoints) # Create a list of beta values\n",
    "\n",
    "plt.figure(figsize=((9,6))) # set the plot size\n",
    "\n",
    "plt.plot(m_range, cSustainable  , 'k', label='Sustainable c') # Add sustainable c line\n",
    "for i in range(len(DiscFac_list)):\n",
    "    PFagent.DiscFac = DiscFac_list[i]\n",
    "    PFagent.solve()\n",
    "    cHARK = PFagent.solution[0].cFunc(m_range)\n",
    "    plt.plot(m_range, cHARK, label='Consumption Function, $\\\\beta$= '+str(PFagent.DiscFac))\n",
    "\n",
    "PFagent.DiscFac = Params.DiscFac # return discount factor to default value\n",
    "PFagent.solve() # It's polite to leave the PFagent back with its default solution\n",
    "plt.xlabel('Market resources m') # x axis label\n",
    "plt.ylabel('Consumption c')      # y axis label\n",
    "plt.legend()                     # show legend\n",
    "plt.show()                       # plot chart\n"
   ]
  },
  {
   "cell_type": "code",
   "execution_count": null,
   "metadata": {},
   "outputs": [],
   "source": [
    "# Now plot the consumption functions for alternate values of G as described above\n",
    "# Note the tricky fact that PermGroFac is a list of values because it could \n",
    "# be representing some arbitrary sequence of growth rates"
   ]
  },
  {
   "cell_type": "code",
   "execution_count": null,
   "metadata": {},
   "outputs": [],
   "source": [
    "# PROBLEM: What is the upper bound for possible values of G?  Why?\n",
    "\n",
    "PermGro_min = PermGroFac[0]\n",
    "PermGro_max = PermGro_min # Replace with correct answer\n",
    "PermGroArray = np.linspace(PermGro_min, PermGro_max, numPoints, endpoint=True)\n",
    "PermGroList = PermGroArray.tolist() # Make growth factors a list\n",
    "\n",
    "# Copy and modify the code above for plotting the consumption functions (starting with plt.figure(figsize=...))"
   ]
  },
  {
   "cell_type": "code",
   "execution_count": null,
   "metadata": {},
   "outputs": [],
   "source": [
    "# PROBLEM: \n",
    "# Now plot the consumption functions for values of rho above the default value"
   ]
  }
 ],
 "metadata": {
  "kernelspec": {
   "display_name": "Python 3",
   "language": "python",
   "name": "python3"
  },
  "language_info": {
   "codemirror_mode": {
    "name": "ipython",
    "version": 3
   },
   "file_extension": ".py",
   "mimetype": "text/x-python",
   "name": "python",
   "nbconvert_exporter": "python",
   "pygments_lexer": "ipython3",
   "version": "3.7.4"
  }
 },
 "nbformat": 4,
 "nbformat_minor": 4
}
